{
 "cells": [
  {
   "cell_type": "markdown",
   "metadata": {},
   "source": [
    "Laen sisse test data"
   ]
  },
  {
   "cell_type": "markdown",
   "metadata": {},
   "source": [
    "Teen selle testimise kasutades juhendeid siin: https://docs.databricks.com/spark/latest/graph-analysis/graph-analysis-graphx-tutorial.html"
   ]
  },
  {
   "cell_type": "code",
   "execution_count": 1,
   "metadata": {},
   "outputs": [
    {
     "data": {
      "text/plain": [
       "twitterDF = [src: int, dst: int]\n"
      ]
     },
     "metadata": {},
     "output_type": "display_data"
    },
    {
     "data": {
      "text/plain": [
       "[src: int, dst: int]"
      ]
     },
     "execution_count": 1,
     "metadata": {},
     "output_type": "execute_result"
    }
   ],
   "source": [
    "val twitterDF = spark.read.format(\"csv\").option(\"header\",\"true\").option(\"inferSchema\",\"true\").load(\"/home/jovyan/data/kagandi_twitter/twitter.csv\")"
   ]
  },
  {
   "cell_type": "code",
   "execution_count": 2,
   "metadata": {},
   "outputs": [
    {
     "data": {
      "text/plain": [
       "16011444"
      ]
     },
     "execution_count": 2,
     "metadata": {},
     "output_type": "execute_result"
    }
   ],
   "source": [
    "twitterDF.count()"
   ]
  },
  {
   "cell_type": "code",
   "execution_count": 3,
   "metadata": {},
   "outputs": [
    {
     "data": {
      "text/plain": [
       "twitter_fakes = [id: int,  label: string]\n"
      ]
     },
     "metadata": {},
     "output_type": "display_data"
    },
    {
     "data": {
      "text/plain": [
       "[id: int,  label: string]"
      ]
     },
     "execution_count": 3,
     "metadata": {},
     "output_type": "execute_result"
    }
   ],
   "source": [
    "val twitter_fakes = spark.read.format(\"csv\").option(\"header\",\"true\").option(\"inferSchema\",\"true\").load(\"/home/jovyan/data/kagandi_twitter/twitter_fake_ids.csv\")"
   ]
  },
  {
   "cell_type": "code",
   "execution_count": 4,
   "metadata": {},
   "outputs": [
    {
     "data": {
      "text/plain": [
       "12437"
      ]
     },
     "execution_count": 4,
     "metadata": {},
     "output_type": "execute_result"
    }
   ],
   "source": [
    "twitter_fakes.count()"
   ]
  },
  {
   "cell_type": "markdown",
   "metadata": {},
   "source": [
    "## Edasi\n",
    "\n",
    "  * Teha "
   ]
  },
  {
   "cell_type": "code",
   "execution_count": null,
   "metadata": {},
   "outputs": [],
   "source": []
  },
  {
   "cell_type": "markdown",
   "metadata": {},
   "source": [
    "Importing graph stuff from graphX"
   ]
  },
  {
   "cell_type": "code",
   "execution_count": 5,
   "metadata": {},
   "outputs": [],
   "source": [
    "import org.apache.spark.graphx._\n",
    "import org.apache.spark.rdd.RDD"
   ]
  },
  {
   "cell_type": "code",
   "execution_count": 6,
   "metadata": {},
   "outputs": [
    {
     "data": {
      "text/plain": [
       "users = [value: bigint]\n"
      ]
     },
     "metadata": {},
     "output_type": "display_data"
    },
    {
     "data": {
      "text/plain": [
       "[value: bigint]"
      ]
     },
     "execution_count": 6,
     "metadata": {},
     "output_type": "execute_result"
    }
   ],
   "source": [
    "val users = twitterDF.rdd.distinct()\n",
    "    .flatMap(x => Iterable(x(0).asInstanceOf[Number].longValue, x(1).asInstanceOf[Number].longValue))\n",
    "    .distinct()\n",
    "    .toDF()"
   ]
  },
  {
   "cell_type": "code",
   "execution_count": 7,
   "metadata": {},
   "outputs": [
    {
     "data": {
      "text/plain": [
       "userVertices = MapPartitionsRDD[45] at map at <console>:37\n"
      ]
     },
     "metadata": {},
     "output_type": "display_data"
    },
    {
     "data": {
      "text/plain": [
       "MapPartitionsRDD[45] at map at <console>:37"
      ]
     },
     "execution_count": 7,
     "metadata": {},
     "output_type": "execute_result"
    }
   ],
   "source": [
    "val userVertices: RDD[(VertexId, String)] = users\n",
    "   .rdd\n",
    "   .map(row => (row(0).asInstanceOf[Number].longValue, \"Real\"))\n"
   ]
  },
  {
   "cell_type": "code",
   "execution_count": 8,
   "metadata": {},
   "outputs": [
    {
     "data": {
      "text/plain": [
       "userEdges = MapPartitionsRDD[46] at map at <console>:34\n"
      ]
     },
     "metadata": {},
     "output_type": "display_data"
    },
    {
     "data": {
      "text/plain": [
       "MapPartitionsRDD[46] at map at <console>:34"
      ]
     },
     "execution_count": 8,
     "metadata": {},
     "output_type": "execute_result"
    }
   ],
   "source": [
    "val userEdges:RDD[Edge[Long]] = twitterDF.rdd\n",
    "   .map(row => Edge(row(0).asInstanceOf[Number].longValue, row(1).asInstanceOf[Number].longValue, 1))"
   ]
  },
  {
   "cell_type": "code",
   "execution_count": 9,
   "metadata": {},
   "outputs": [
    {
     "data": {
      "text/plain": [
       "defaultUser = Jon Doe\n"
      ]
     },
     "metadata": {},
     "output_type": "display_data"
    },
    {
     "data": {
      "text/plain": [
       "Jon Doe"
      ]
     },
     "execution_count": 9,
     "metadata": {},
     "output_type": "execute_result"
    }
   ],
   "source": [
    "val defaultUser = (\"Jon Doe\")"
   ]
  },
  {
   "cell_type": "code",
   "execution_count": 10,
   "metadata": {},
   "outputs": [
    {
     "data": {
      "text/plain": [
       "usersGraph = org.apache.spark.graphx.impl.GraphImpl@618d1714\n"
      ]
     },
     "metadata": {},
     "output_type": "display_data"
    },
    {
     "data": {
      "text/plain": [
       "org.apache.spark.graphx.impl.GraphImpl@618d1714"
      ]
     },
     "execution_count": 10,
     "metadata": {},
     "output_type": "execute_result"
    }
   ],
   "source": [
    "val usersGraph = Graph(userVertices, userEdges, defaultUser)"
   ]
  },
  {
   "cell_type": "code",
   "execution_count": 11,
   "metadata": {},
   "outputs": [
    {
     "data": {
      "text/plain": [
       "org.apache.spark.graphx.impl.GraphImpl@618d1714"
      ]
     },
     "execution_count": 11,
     "metadata": {},
     "output_type": "execute_result"
    }
   ],
   "source": [
    "usersGraph.cache()"
   ]
  },
  {
   "cell_type": "code",
   "execution_count": 12,
   "metadata": {},
   "outputs": [
    {
     "name": "stdout",
     "output_type": "stream",
     "text": [
      "Total Number of Users: 5384162\n",
      "Total Number of Relationships: 16011444\n",
      "Total Number of Relationships in Original Data: 16011444\n"
     ]
    }
   ],
   "source": [
    "println(\"Total Number of Users: \" + usersGraph.numVertices)\n",
    "println(\"Total Number of Relationships: \" + usersGraph.numEdges)\n",
    "// sanity check\n",
    "println(\"Total Number of Relationships in Original Data: \" + twitterDF.count)"
   ]
  },
  {
   "cell_type": "markdown",
   "metadata": {},
   "source": [
    "# PageRank-i jooksutamine"
   ]
  },
  {
   "cell_type": "code",
   "execution_count": 13,
   "metadata": {},
   "outputs": [
    {
     "data": {
      "text/plain": [
       "ranks = VertexRDDImpl[942] at RDD at VertexRDD.scala:57\n"
      ]
     },
     "metadata": {},
     "output_type": "display_data"
    },
    {
     "data": {
      "text/plain": [
       "VertexRDDImpl[942] at RDD at VertexRDD.scala:57"
      ]
     },
     "execution_count": 13,
     "metadata": {},
     "output_type": "execute_result"
    }
   ],
   "source": [
    "val ranks = usersGraph.pageRank(0.0001).vertices"
   ]
  },
  {
   "cell_type": "code",
   "execution_count": 14,
   "metadata": {},
   "outputs": [
    {
     "data": {
      "text/plain": [
       "Array((10307,117.27534996155201), (27459,80.5349580145939), (15226,72.08546700606429), (16006,64.9225696711577), (8713,64.25478467976535), (426,63.792155159804025), (4241,63.24161136755771), (8694,59.45448340145653), (120203,55.93105619475406), (10225,55.78781743270077))"
      ]
     },
     "execution_count": 14,
     "metadata": {},
     "output_type": "execute_result"
    }
   ],
   "source": [
    "ranks.sortBy(_._2, ascending=false).take(10)"
   ]
  },
  {
   "cell_type": "markdown",
   "metadata": {},
   "source": [
    "## Teha siin ümber et näitaks kasutaja infot ja nende klassi (real/fake)"
   ]
  },
  {
   "cell_type": "code",
   "execution_count": 44,
   "metadata": {},
   "outputs": [
    {
     "name": "stdout",
     "output_type": "stream",
     "text": [
      "Station: San Jose Diridon Caltrain Station\t\t Rank: 3.95332475313009\n",
      "Station: San Francisco Caltrain (Townsend at 4th)\t\t Rank: 3.2708212384471804\n",
      "Station: Mountain View Caltrain Station\t\t Rank: 2.5131577090624435\n",
      "Station: Redwood City Caltrain Station\t\t Rank: 2.2289235741998996\n",
      "Station: San Francisco Caltrain 2 (330 Townsend)\t\t Rank: 2.17767954644027\n",
      "Station: Harry Bridges Plaza (Ferry Building)\t\t Rank: 1.781452831653251\n",
      "Station: 2nd at Townsend\t\t Rank: 1.544284802694958\n",
      "Station: Santa Clara at Almaden\t\t Rank: 1.5342586021027171\n",
      "Station: Townsend at 7th\t\t Rank: 1.5309106362489386\n",
      "Station: Embarcadero at Sansome\t\t Rank: 1.5045403211302477\n"
     ]
    }
   ],
   "source": [
    "ranks\n",
    "  .join(stationVertices)\n",
    "  .sortBy(_._2._1, ascending=false) // sort by the rank\n",
    "  .take(10) // get the top 10\n",
    "  .foreach(x => println(\"Station: \" + x._2._2 + \"\\t\\t Rank: \" + x._2._1))"
   ]
  },
  {
   "cell_type": "markdown",
   "metadata": {},
   "source": [
    "Most common trips between station to station"
   ]
  },
  {
   "cell_type": "code",
   "execution_count": 28,
   "metadata": {},
   "outputs": [
    {
     "name": "stdout",
     "output_type": "stream",
     "text": [
      "There were 614 trips from San Francisco Caltrain 2 (330 Townsend) to Townsend at 7th.\n",
      "There were 584 trips from Townsend at 7th to San Francisco Caltrain 2 (330 Townsend).\n",
      "There were 573 trips from San Francisco Caltrain 2 (330 Townsend) to Townsend at 7th.\n",
      "There were 555 trips from Townsend at 7th to San Francisco Caltrain 2 (330 Townsend).\n",
      "There were 555 trips from San Francisco Caltrain 2 (330 Townsend) to Townsend at 7th.\n",
      "There were 550 trips from Townsend at 7th to San Francisco Caltrain (Townsend at 4th).\n",
      "There were 525 trips from Townsend at 7th to San Francisco Caltrain 2 (330 Townsend).\n",
      "There were 513 trips from Townsend at 7th to San Francisco Caltrain (Townsend at 4th).\n",
      "There were 511 trips from Harry Bridges Plaza (Ferry Building) to Embarcadero at Sansome.\n",
      "There were 506 trips from San Francisco Caltrain 2 (330 Townsend) to Townsend at 7th.\n"
     ]
    }
   ],
   "source": [
    "stationGraph\n",
    "  .groupEdges((edge1, edge2) => edge1 + edge2)\n",
    "  .triplets\n",
    "  .sortBy(_.attr, ascending=false)\n",
    "  .map(triplet =>\n",
    "    \"There were \" + triplet.attr.toString + \" trips from \" + triplet.srcAttr + \" to \" + triplet.dstAttr + \".\")\n",
    "  .take(10)\n",
    "  .foreach(println)"
   ]
  },
  {
   "cell_type": "markdown",
   "metadata": {},
   "source": [
    "In and out degrees"
   ]
  },
  {
   "cell_type": "code",
   "execution_count": 30,
   "metadata": {},
   "outputs": [
    {
     "name": "stdout",
     "output_type": "stream",
     "text": [
      "San Francisco Caltrain (Townsend at 4th) has 34166 in degrees.\n",
      "San Francisco Caltrain 2 (330 Townsend) has 22109 in degrees.\n",
      "Harry Bridges Plaza (Ferry Building) has 17403 in degrees.\n",
      "2nd at Townsend has 15279 in degrees.\n",
      "Townsend at 7th has 15126 in degrees.\n",
      "Embarcadero at Sansome has 14705 in degrees.\n",
      "Market at Sansome has 13778 in degrees.\n",
      "Steuart at Market has 13383 in degrees.\n",
      "Temporary Transbay Terminal (Howard at Beale) has 12748 in degrees.\n",
      "Market at 10th has 9988 in degrees.\n"
     ]
    }
   ],
   "source": [
    "stationGraph\n",
    "    .inDegrees\n",
    "    .join(stationVertices)\n",
    "    .sortBy(_._2._1, ascending=false)\n",
    "    .take(10)\n",
    "    .foreach(x => println(x._2._2 + \" has \" + x._2._1 + \" in degrees.\"))"
   ]
  },
  {
   "cell_type": "code",
   "execution_count": 31,
   "metadata": {},
   "outputs": [
    {
     "name": "stdout",
     "output_type": "stream",
     "text": [
      "San Francisco Caltrain (Townsend at 4th) has 25631 out degrees.\n",
      "San Francisco Caltrain 2 (330 Townsend) has 21245 out degrees.\n",
      "Harry Bridges Plaza (Ferry Building) has 16917 out degrees.\n",
      "Temporary Transbay Terminal (Howard at Beale) has 14242 out degrees.\n",
      "Embarcadero at Sansome has 13885 out degrees.\n",
      "2nd at Townsend has 13746 out degrees.\n",
      "Steuart at Market has 13478 out degrees.\n",
      "Townsend at 7th has 13465 out degrees.\n",
      "Market at 10th has 11449 out degrees.\n",
      "Market at Sansome has 11317 out degrees.\n"
     ]
    }
   ],
   "source": [
    "stationGraph\n",
    "  .outDegrees // out degrees\n",
    "  .join(stationVertices)\n",
    "  .sortBy(_._2._1, ascending=false)\n",
    "  .take(10)\n",
    "  .foreach(x => println(x._2._2 + \" has \" + x._2._1 + \" out degrees.\"))"
   ]
  },
  {
   "cell_type": "markdown",
   "metadata": {},
   "source": [
    "Highest in/out degree ratio stations"
   ]
  },
  {
   "cell_type": "code",
   "execution_count": 32,
   "metadata": {},
   "outputs": [
    {
     "name": "stdout",
     "output_type": "stream",
     "text": [
      "Redwood City Medical Center has a in/out degree ratio of 1.5333333333333334\n",
      "San Mateo County Center has a in/out degree ratio of 1.4724409448818898\n",
      "SJSU 4th at San Carlos has a in/out degree ratio of 1.3621052631578947\n",
      "San Francisco Caltrain (Townsend at 4th) has a in/out degree ratio of 1.3329952011236395\n",
      "Paseo de San Antonio has a in/out degree ratio of 1.2535046728971964\n"
     ]
    }
   ],
   "source": [
    "stationGraph\n",
    "  .inDegrees\n",
    "  .join(stationGraph.outDegrees) // join with out Degrees\n",
    "  .join(stationVertices) // join with your other stations\n",
    "  .map(x => (x._2._1._1.toDouble/x._2._1._2.toDouble, x._2._2)) // ratio of in to out\n",
    "  .sortBy(_._1, ascending=false)\n",
    "  .take(5)\n",
    "  .foreach(x => println(x._2 + \" has a in/out degree ratio of \" + x._1))"
   ]
  },
  {
   "cell_type": "markdown",
   "metadata": {},
   "source": [
    "Lowest in/out degree ratio stations"
   ]
  },
  {
   "cell_type": "code",
   "execution_count": 33,
   "metadata": {},
   "outputs": [
    {
     "name": "stdout",
     "output_type": "stream",
     "text": [
      "Beale at Market has a in/out degree ratio of 1.0\n",
      "SJSU - San Salvador at 9th has a in/out degree ratio of 1.0\n",
      "Santa Clara County Civic Center has a in/out degree ratio of 1.0\n",
      "Embarcadero at Vallejo has a in/out degree ratio of 1.0\n",
      "Castro Street and El Camino Real has a in/out degree ratio of 1.0\n"
     ]
    }
   ],
   "source": [
    "stationGraph\n",
    "  .inDegrees\n",
    "  .join(stationGraph.inDegrees) // join with out Degrees\n",
    "  .join(stationVertices) // join with your other stations\n",
    "  .map(x => (x._2._1._1.toDouble/x._2._1._2.toDouble, x._2._2)) // ratio of in to out\n",
    "  .sortBy(_._1)\n",
    "  .take(5)\n",
    "  .foreach(x => println(x._2 + \" has a in/out degree ratio of \" + x._1))\n"
   ]
  },
  {
   "cell_type": "code",
   "execution_count": null,
   "metadata": {},
   "outputs": [],
   "source": []
  }
 ],
 "metadata": {
  "kernelspec": {
   "display_name": "Apache Toree - Scala",
   "language": "scala",
   "name": "apache_toree_scala"
  },
  "language_info": {
   "codemirror_mode": "text/x-scala",
   "file_extension": ".scala",
   "mimetype": "text/x-scala",
   "name": "scala",
   "pygments_lexer": "scala",
   "version": "2.11.12"
  }
 },
 "nbformat": 4,
 "nbformat_minor": 2
}
