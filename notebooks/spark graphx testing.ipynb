{
 "cells": [
  {
   "cell_type": "markdown",
   "metadata": {},
   "source": [
    "Laen sisse test data"
   ]
  },
  {
   "cell_type": "markdown",
   "metadata": {},
   "source": [
    "Teen selle testimise kasutades juhendeid siin: https://docs.databricks.com/spark/latest/graph-analysis/graph-analysis-graphx-tutorial.html"
   ]
  },
  {
   "cell_type": "code",
   "execution_count": 1,
   "metadata": {},
   "outputs": [
    {
     "data": {
      "text/plain": [
       "stationsDF = [station_id: int, name: string ... 5 more fields]\n"
      ]
     },
     "metadata": {},
     "output_type": "display_data"
    },
    {
     "data": {
      "text/plain": [
       "[station_id: int, name: string ... 5 more fields]"
      ]
     },
     "execution_count": 1,
     "metadata": {},
     "output_type": "execute_result"
    }
   ],
   "source": [
    "val stationsDF = spark.read.format(\"csv\").option(\"header\",\"true\").option(\"inferSchema\",\"true\").load(\"/home/jovyan/data/stations/201508_station_data.csv\")"
   ]
  },
  {
   "cell_type": "code",
   "execution_count": 4,
   "metadata": {},
   "outputs": [
    {
     "data": {
      "text/plain": [
       "70"
      ]
     },
     "execution_count": 4,
     "metadata": {},
     "output_type": "execute_result"
    }
   ],
   "source": [
    "stationsDF.count()"
   ]
  },
  {
   "cell_type": "code",
   "execution_count": 5,
   "metadata": {},
   "outputs": [
    {
     "data": {
      "text/plain": [
       "tripsDF = [Trip ID: int, Duration: int ... 9 more fields]\n"
      ]
     },
     "metadata": {},
     "output_type": "display_data"
    },
    {
     "data": {
      "text/plain": [
       "[Trip ID: int, Duration: int ... 9 more fields]"
      ]
     },
     "execution_count": 5,
     "metadata": {},
     "output_type": "execute_result"
    }
   ],
   "source": [
    "val tripsDF = spark.read.format(\"csv\").option(\"header\",\"true\").option(\"inferSchema\",\"true\").load(\"/home/jovyan/data/stations/201508_trip_data.csv\")"
   ]
  },
  {
   "cell_type": "code",
   "execution_count": 9,
   "metadata": {},
   "outputs": [
    {
     "data": {
      "text/plain": [
       "[Trip ID: int, Duration: int ... 9 more fields]"
      ]
     },
     "execution_count": 9,
     "metadata": {},
     "output_type": "execute_result"
    }
   ],
   "source": [
    "tripsDF"
   ]
  },
  {
   "cell_type": "markdown",
   "metadata": {},
   "source": [
    "Importing graph stuff from graphX"
   ]
  },
  {
   "cell_type": "code",
   "execution_count": 10,
   "metadata": {},
   "outputs": [],
   "source": [
    "import org.apache.spark.graphx._\n",
    "import org.apache.spark.rdd.RDD\n"
   ]
  },
  {
   "cell_type": "code",
   "execution_count": 11,
   "metadata": {},
   "outputs": [
    {
     "data": {
      "text/plain": [
       "justStations = [station_id: float, name: string]\n"
      ]
     },
     "metadata": {},
     "output_type": "display_data"
    },
    {
     "data": {
      "text/plain": [
       "[station_id: float, name: string]"
      ]
     },
     "execution_count": 11,
     "metadata": {},
     "output_type": "execute_result"
    }
   ],
   "source": [
    "val justStations = stationsDF.selectExpr(\"float(station_id) as station_id\", \"name\")"
   ]
  },
  {
   "cell_type": "code",
   "execution_count": 14,
   "metadata": {},
   "outputs": [
    {
     "data": {
      "text/plain": [
       "completeTripData = [Trip ID: int, Duration: int ... 11 more fields]\n"
      ]
     },
     "metadata": {},
     "output_type": "display_data"
    },
    {
     "data": {
      "text/plain": [
       "[Trip ID: int, Duration: int ... 11 more fields]"
      ]
     },
     "execution_count": 14,
     "metadata": {},
     "output_type": "execute_result"
    }
   ],
   "source": [
    "val completeTripData = tripsDF.\n",
    "  join(justStations, tripsDF(\"Start Station\") === stationsDF(\"name\")).\n",
    "  withColumnRenamed(\"station_id\",\"start_station_id\").\n",
    "  drop(\"name\").\n",
    "  join(justStations, tripsDF(\"End Station\") === stationsDF(\"name\")).\n",
    "  withColumnRenamed(\"station_id\",\"end_station_id\").\n",
    "  drop(\"name\")"
   ]
  },
  {
   "cell_type": "code",
   "execution_count": 17,
   "metadata": {},
   "outputs": [
    {
     "data": {
      "text/plain": [
       "stations = [value: bigint]\n"
      ]
     },
     "metadata": {},
     "output_type": "display_data"
    },
    {
     "data": {
      "text/plain": [
       "[value: bigint]"
      ]
     },
     "execution_count": 17,
     "metadata": {},
     "output_type": "execute_result"
    }
   ],
   "source": [
    "val stations = completeTripData.select(\"start_station_id\",\"end_station_id\")\n",
    "  .rdd\n",
    "  .distinct()\n",
    "  .flatMap(x => Iterable(x(0).asInstanceOf[Number].longValue, x(1).asInstanceOf[Number].longValue)) // helps us maintain types\n",
    "  .distinct()\n",
    "  .toDF()"
   ]
  },
  {
   "cell_type": "code",
   "execution_count": 19,
   "metadata": {},
   "outputs": [
    {
     "data": {
      "text/plain": [
       "stationVertices = MapPartitionsRDD[70] at map at <console>:45\n"
      ]
     },
     "metadata": {},
     "output_type": "display_data"
    },
    {
     "data": {
      "text/plain": [
       "Array((56,Beale at Market))"
      ]
     },
     "execution_count": 19,
     "metadata": {},
     "output_type": "execute_result"
    }
   ],
   "source": [
    "val stationVertices: RDD[(VertexId, String)] = stations\n",
    "  .join(justStations, stations(\"value\") === justStations(\"station_id\"))\n",
    "  .select(\"station_id\", \"name\")\n",
    "  .rdd\n",
    "  .map(row => (row(0).asInstanceOf[Number].longValue, row(1).asInstanceOf[String])) // maintain type information\n",
    "\n",
    "stationVertices.take(1)"
   ]
  },
  {
   "cell_type": "code",
   "execution_count": 20,
   "metadata": {},
   "outputs": [
    {
     "data": {
      "text/plain": [
       "stationEdges = MapPartitionsRDD[78] at map at <console>:42\n"
      ]
     },
     "metadata": {},
     "output_type": "display_data"
    },
    {
     "data": {
      "text/plain": [
       "MapPartitionsRDD[78] at map at <console>:42"
      ]
     },
     "execution_count": 20,
     "metadata": {},
     "output_type": "execute_result"
    }
   ],
   "source": [
    "val stationEdges:RDD[Edge[Long]] = completeTripData\n",
    "  .select(\"start_station_id\", \"end_station_id\")\n",
    "  .rdd\n",
    "  .map(row => Edge(row(0).asInstanceOf[Number].longValue, row(1).asInstanceOf[Number].longValue, 1))"
   ]
  },
  {
   "cell_type": "code",
   "execution_count": 21,
   "metadata": {},
   "outputs": [
    {
     "data": {
      "text/plain": [
       "defaultStation = Missing Station\n"
      ]
     },
     "metadata": {},
     "output_type": "display_data"
    },
    {
     "data": {
      "text/plain": [
       "Missing Station"
      ]
     },
     "execution_count": 21,
     "metadata": {},
     "output_type": "execute_result"
    }
   ],
   "source": [
    "val defaultStation = (\"Missing Station\")"
   ]
  },
  {
   "cell_type": "code",
   "execution_count": 22,
   "metadata": {},
   "outputs": [
    {
     "data": {
      "text/plain": [
       "stationGraph = org.apache.spark.graphx.impl.GraphImpl@266be6d4\n"
      ]
     },
     "metadata": {},
     "output_type": "display_data"
    },
    {
     "data": {
      "text/plain": [
       "org.apache.spark.graphx.impl.GraphImpl@266be6d4"
      ]
     },
     "execution_count": 22,
     "metadata": {},
     "output_type": "execute_result"
    }
   ],
   "source": [
    "val stationGraph = Graph(stationVertices, stationEdges, defaultStation)"
   ]
  },
  {
   "cell_type": "code",
   "execution_count": 23,
   "metadata": {},
   "outputs": [
    {
     "data": {
      "text/plain": [
       "org.apache.spark.graphx.impl.GraphImpl@266be6d4"
      ]
     },
     "execution_count": 23,
     "metadata": {},
     "output_type": "execute_result"
    }
   ],
   "source": [
    "stationGraph.cache()"
   ]
  },
  {
   "cell_type": "code",
   "execution_count": 25,
   "metadata": {},
   "outputs": [
    {
     "name": "stdout",
     "output_type": "stream",
     "text": [
      "Total Number of Stations: 68\n",
      "Total Number of Trips: 339030\n",
      "Total Number of Trips in Original Data: 354152\n"
     ]
    }
   ],
   "source": [
    "println(\"Total Number of Stations: \" + stationGraph.numVertices)\n",
    "println(\"Total Number of Trips: \" + stationGraph.numEdges)\n",
    "// sanity check\n",
    "println(\"Total Number of Trips in Original Data: \" + tripsDF.count)"
   ]
  },
  {
   "cell_type": "markdown",
   "metadata": {},
   "source": [
    "# PageRank-i jooksutamine"
   ]
  },
  {
   "cell_type": "code",
   "execution_count": null,
   "metadata": {},
   "outputs": [],
   "source": [
    "val ranks = stationGraph.pageRank(0.0001).vertices"
   ]
  },
  {
   "cell_type": "markdown",
   "metadata": {},
   "source": [
    "Most importantly ranked stations"
   ]
  },
  {
   "cell_type": "code",
   "execution_count": 40,
   "metadata": {},
   "outputs": [
    {
     "data": {
      "text/plain": [
       "Array((2,3.95332475313009), (70,3.2708212384471804), (28,2.5131577090624435), (22,2.2289235741998996), (69,2.17767954644027), (50,1.781452831653251), (61,1.544284802694958), (4,1.5342586021027171), (65,1.5309106362489386), (60,1.5045403211302477))"
      ]
     },
     "execution_count": 40,
     "metadata": {},
     "output_type": "execute_result"
    }
   ],
   "source": [
    "ranks.sortBy(_._2, ascending=false).take(10)"
   ]
  },
  {
   "cell_type": "code",
   "execution_count": 44,
   "metadata": {},
   "outputs": [
    {
     "name": "stdout",
     "output_type": "stream",
     "text": [
      "Station: San Jose Diridon Caltrain Station\t\t Rank: 3.95332475313009\n",
      "Station: San Francisco Caltrain (Townsend at 4th)\t\t Rank: 3.2708212384471804\n",
      "Station: Mountain View Caltrain Station\t\t Rank: 2.5131577090624435\n",
      "Station: Redwood City Caltrain Station\t\t Rank: 2.2289235741998996\n",
      "Station: San Francisco Caltrain 2 (330 Townsend)\t\t Rank: 2.17767954644027\n",
      "Station: Harry Bridges Plaza (Ferry Building)\t\t Rank: 1.781452831653251\n",
      "Station: 2nd at Townsend\t\t Rank: 1.544284802694958\n",
      "Station: Santa Clara at Almaden\t\t Rank: 1.5342586021027171\n",
      "Station: Townsend at 7th\t\t Rank: 1.5309106362489386\n",
      "Station: Embarcadero at Sansome\t\t Rank: 1.5045403211302477\n"
     ]
    }
   ],
   "source": [
    "ranks\n",
    "  .join(stationVertices)\n",
    "  .sortBy(_._2._1, ascending=false) // sort by the rank\n",
    "  .take(10) // get the top 10\n",
    "  .foreach(x => println(\"Station: \" + x._2._2 + \"\\t\\t Rank: \" + x._2._1))"
   ]
  },
  {
   "cell_type": "markdown",
   "metadata": {},
   "source": [
    "Most common trips between station to station"
   ]
  },
  {
   "cell_type": "code",
   "execution_count": 28,
   "metadata": {},
   "outputs": [
    {
     "name": "stdout",
     "output_type": "stream",
     "text": [
      "There were 614 trips from San Francisco Caltrain 2 (330 Townsend) to Townsend at 7th.\n",
      "There were 584 trips from Townsend at 7th to San Francisco Caltrain 2 (330 Townsend).\n",
      "There were 573 trips from San Francisco Caltrain 2 (330 Townsend) to Townsend at 7th.\n",
      "There were 555 trips from Townsend at 7th to San Francisco Caltrain 2 (330 Townsend).\n",
      "There were 555 trips from San Francisco Caltrain 2 (330 Townsend) to Townsend at 7th.\n",
      "There were 550 trips from Townsend at 7th to San Francisco Caltrain (Townsend at 4th).\n",
      "There were 525 trips from Townsend at 7th to San Francisco Caltrain 2 (330 Townsend).\n",
      "There were 513 trips from Townsend at 7th to San Francisco Caltrain (Townsend at 4th).\n",
      "There were 511 trips from Harry Bridges Plaza (Ferry Building) to Embarcadero at Sansome.\n",
      "There were 506 trips from San Francisco Caltrain 2 (330 Townsend) to Townsend at 7th.\n"
     ]
    }
   ],
   "source": [
    "stationGraph\n",
    "  .groupEdges((edge1, edge2) => edge1 + edge2)\n",
    "  .triplets\n",
    "  .sortBy(_.attr, ascending=false)\n",
    "  .map(triplet =>\n",
    "    \"There were \" + triplet.attr.toString + \" trips from \" + triplet.srcAttr + \" to \" + triplet.dstAttr + \".\")\n",
    "  .take(10)\n",
    "  .foreach(println)"
   ]
  },
  {
   "cell_type": "markdown",
   "metadata": {},
   "source": [
    "In and out degrees"
   ]
  },
  {
   "cell_type": "code",
   "execution_count": 30,
   "metadata": {},
   "outputs": [
    {
     "name": "stdout",
     "output_type": "stream",
     "text": [
      "San Francisco Caltrain (Townsend at 4th) has 34166 in degrees.\n",
      "San Francisco Caltrain 2 (330 Townsend) has 22109 in degrees.\n",
      "Harry Bridges Plaza (Ferry Building) has 17403 in degrees.\n",
      "2nd at Townsend has 15279 in degrees.\n",
      "Townsend at 7th has 15126 in degrees.\n",
      "Embarcadero at Sansome has 14705 in degrees.\n",
      "Market at Sansome has 13778 in degrees.\n",
      "Steuart at Market has 13383 in degrees.\n",
      "Temporary Transbay Terminal (Howard at Beale) has 12748 in degrees.\n",
      "Market at 10th has 9988 in degrees.\n"
     ]
    }
   ],
   "source": [
    "stationGraph\n",
    "    .inDegrees\n",
    "    .join(stationVertices)\n",
    "    .sortBy(_._2._1, ascending=false)\n",
    "    .take(10)\n",
    "    .foreach(x => println(x._2._2 + \" has \" + x._2._1 + \" in degrees.\"))"
   ]
  },
  {
   "cell_type": "code",
   "execution_count": 31,
   "metadata": {},
   "outputs": [
    {
     "name": "stdout",
     "output_type": "stream",
     "text": [
      "San Francisco Caltrain (Townsend at 4th) has 25631 out degrees.\n",
      "San Francisco Caltrain 2 (330 Townsend) has 21245 out degrees.\n",
      "Harry Bridges Plaza (Ferry Building) has 16917 out degrees.\n",
      "Temporary Transbay Terminal (Howard at Beale) has 14242 out degrees.\n",
      "Embarcadero at Sansome has 13885 out degrees.\n",
      "2nd at Townsend has 13746 out degrees.\n",
      "Steuart at Market has 13478 out degrees.\n",
      "Townsend at 7th has 13465 out degrees.\n",
      "Market at 10th has 11449 out degrees.\n",
      "Market at Sansome has 11317 out degrees.\n"
     ]
    }
   ],
   "source": [
    "stationGraph\n",
    "  .outDegrees // out degrees\n",
    "  .join(stationVertices)\n",
    "  .sortBy(_._2._1, ascending=false)\n",
    "  .take(10)\n",
    "  .foreach(x => println(x._2._2 + \" has \" + x._2._1 + \" out degrees.\"))"
   ]
  },
  {
   "cell_type": "markdown",
   "metadata": {},
   "source": [
    "Highest in/out degree ratio stations"
   ]
  },
  {
   "cell_type": "code",
   "execution_count": 32,
   "metadata": {},
   "outputs": [
    {
     "name": "stdout",
     "output_type": "stream",
     "text": [
      "Redwood City Medical Center has a in/out degree ratio of 1.5333333333333334\n",
      "San Mateo County Center has a in/out degree ratio of 1.4724409448818898\n",
      "SJSU 4th at San Carlos has a in/out degree ratio of 1.3621052631578947\n",
      "San Francisco Caltrain (Townsend at 4th) has a in/out degree ratio of 1.3329952011236395\n",
      "Paseo de San Antonio has a in/out degree ratio of 1.2535046728971964\n"
     ]
    }
   ],
   "source": [
    "stationGraph\n",
    "  .inDegrees\n",
    "  .join(stationGraph.outDegrees) // join with out Degrees\n",
    "  .join(stationVertices) // join with your other stations\n",
    "  .map(x => (x._2._1._1.toDouble/x._2._1._2.toDouble, x._2._2)) // ratio of in to out\n",
    "  .sortBy(_._1, ascending=false)\n",
    "  .take(5)\n",
    "  .foreach(x => println(x._2 + \" has a in/out degree ratio of \" + x._1))"
   ]
  },
  {
   "cell_type": "markdown",
   "metadata": {},
   "source": [
    "Lowest in/out degree ratio stations"
   ]
  },
  {
   "cell_type": "code",
   "execution_count": 33,
   "metadata": {},
   "outputs": [
    {
     "name": "stdout",
     "output_type": "stream",
     "text": [
      "Beale at Market has a in/out degree ratio of 1.0\n",
      "SJSU - San Salvador at 9th has a in/out degree ratio of 1.0\n",
      "Santa Clara County Civic Center has a in/out degree ratio of 1.0\n",
      "Embarcadero at Vallejo has a in/out degree ratio of 1.0\n",
      "Castro Street and El Camino Real has a in/out degree ratio of 1.0\n"
     ]
    }
   ],
   "source": [
    "stationGraph\n",
    "  .inDegrees\n",
    "  .join(stationGraph.inDegrees) // join with out Degrees\n",
    "  .join(stationVertices) // join with your other stations\n",
    "  .map(x => (x._2._1._1.toDouble/x._2._1._2.toDouble, x._2._2)) // ratio of in to out\n",
    "  .sortBy(_._1)\n",
    "  .take(5)\n",
    "  .foreach(x => println(x._2 + \" has a in/out degree ratio of \" + x._1))\n"
   ]
  },
  {
   "cell_type": "code",
   "execution_count": null,
   "metadata": {},
   "outputs": [],
   "source": []
  }
 ],
 "metadata": {
  "kernelspec": {
   "display_name": "Apache Toree - Scala",
   "language": "scala",
   "name": "apache_toree_scala"
  },
  "language_info": {
   "codemirror_mode": "text/x-scala",
   "file_extension": ".scala",
   "mimetype": "text/x-scala",
   "name": "scala",
   "pygments_lexer": "scala",
   "version": "2.11.12"
  }
 },
 "nbformat": 4,
 "nbformat_minor": 2
}
